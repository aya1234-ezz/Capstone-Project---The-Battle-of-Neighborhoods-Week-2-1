{
  "nbformat": 4,
  "nbformat_minor": 0,
  "metadata": {
    "colab": {
      "name": "Untitled9.ipynb",
      "provenance": [],
      "collapsed_sections": []
    },
    "kernelspec": {
      "name": "python3",
      "display_name": "Python 3"
    }
  },
  "cells": [
    {
      "cell_type": "code",
      "metadata": {
        "id": "xmXPYiAlA860",
        "colab_type": "code",
        "colab": {
          "base_uri": "https://localhost:8080/"
        },
        "outputId": "8fef126a-b0fe-4ede-a05c-858c36b38e75"
      },
      "source": [
        "\n",
        "!pip install geocoder\n",
        "!pip install folium\n"
      ],
      "execution_count": null,
      "outputs": [
        {
          "output_type": "stream",
          "text": [
            "Requirement already satisfied: geocoder in /usr/local/lib/python3.6/dist-packages (1.38.1)\n",
            "Requirement already satisfied: future in /usr/local/lib/python3.6/dist-packages (from geocoder) (0.16.0)\n",
            "Requirement already satisfied: six in /usr/local/lib/python3.6/dist-packages (from geocoder) (1.15.0)\n",
            "Requirement already satisfied: click in /usr/local/lib/python3.6/dist-packages (from geocoder) (7.1.2)\n",
            "Requirement already satisfied: ratelim in /usr/local/lib/python3.6/dist-packages (from geocoder) (0.1.6)\n",
            "Requirement already satisfied: requests in /usr/local/lib/python3.6/dist-packages (from geocoder) (2.23.0)\n",
            "Requirement already satisfied: decorator in /usr/local/lib/python3.6/dist-packages (from ratelim->geocoder) (4.4.2)\n",
            "Requirement already satisfied: idna<3,>=2.5 in /usr/local/lib/python3.6/dist-packages (from requests->geocoder) (2.10)\n",
            "Requirement already satisfied: certifi>=2017.4.17 in /usr/local/lib/python3.6/dist-packages (from requests->geocoder) (2020.6.20)\n",
            "Requirement already satisfied: chardet<4,>=3.0.2 in /usr/local/lib/python3.6/dist-packages (from requests->geocoder) (3.0.4)\n",
            "Requirement already satisfied: urllib3!=1.25.0,!=1.25.1,<1.26,>=1.21.1 in /usr/local/lib/python3.6/dist-packages (from requests->geocoder) (1.24.3)\n",
            "Requirement already satisfied: folium in /usr/local/lib/python3.6/dist-packages (0.8.3)\n",
            "Requirement already satisfied: jinja2 in /usr/local/lib/python3.6/dist-packages (from folium) (2.11.2)\n",
            "Requirement already satisfied: requests in /usr/local/lib/python3.6/dist-packages (from folium) (2.23.0)\n",
            "Requirement already satisfied: numpy in /usr/local/lib/python3.6/dist-packages (from folium) (1.18.5)\n",
            "Requirement already satisfied: branca>=0.3.0 in /usr/local/lib/python3.6/dist-packages (from folium) (0.4.1)\n",
            "Requirement already satisfied: six in /usr/local/lib/python3.6/dist-packages (from folium) (1.15.0)\n",
            "Requirement already satisfied: MarkupSafe>=0.23 in /usr/local/lib/python3.6/dist-packages (from jinja2->folium) (1.1.1)\n",
            "Requirement already satisfied: certifi>=2017.4.17 in /usr/local/lib/python3.6/dist-packages (from requests->folium) (2020.6.20)\n",
            "Requirement already satisfied: urllib3!=1.25.0,!=1.25.1,<1.26,>=1.21.1 in /usr/local/lib/python3.6/dist-packages (from requests->folium) (1.24.3)\n",
            "Requirement already satisfied: chardet<4,>=3.0.2 in /usr/local/lib/python3.6/dist-packages (from requests->folium) (3.0.4)\n",
            "Requirement already satisfied: idna<3,>=2.5 in /usr/local/lib/python3.6/dist-packages (from requests->folium) (2.10)\n"
          ],
          "name": "stdout"
        }
      ]
    },
    {
      "cell_type": "code",
      "metadata": {
        "id": "a69PPjRABkHm",
        "colab_type": "code",
        "colab": {
          "base_uri": "https://localhost:8080/"
        },
        "outputId": "7a96bd2b-6e65-4ba8-d2fb-4578a55e8ed9"
      },
      "source": [
        "import pandas as pd\n",
        "import requests\n",
        "import numpy as np\n",
        "import geocoder\n",
        "import folium\n",
        "import requests \n",
        "import matplotlib.cm as cm\n",
        "import matplotlib.colors as colors\n",
        "import json\n",
        "import xml\n",
        "import matplotlib.pyplot as plt\n",
        "%matplotlib inline\n",
        "import warnings\n",
        "warnings.filterwarnings(\"ignore\")\n",
        "\n",
        "from pandas.io.json import json_normalize \n",
        "from sklearn.cluster import KMeans\n",
        "from geopy.geocoders import Nominatim \n",
        "from bs4 import BeautifulSoup\n",
        "\n",
        "pd.set_option('display.max_columns', None)\n",
        "pd.set_option('display.max_rows', None)\n",
        "\n",
        "print(\"All Required Libraries Imported!\")"
      ],
      "execution_count": null,
      "outputs": [
        {
          "output_type": "stream",
          "text": [
            "All Required Libraries Imported!\n"
          ],
          "name": "stdout"
        }
      ]
    },
    {
      "cell_type": "code",
      "metadata": {
        "id": "JajaVGVcBsax",
        "colab_type": "code",
        "colab": {}
      },
      "source": [
        "url = \"https://en.wikipedia.org/wiki/List_of_postal_codes_of_Canada:_M\"\n",
        "extracting_data = requests.get(url).text\n",
        "wiki_data = BeautifulSoup(extracting_data, 'lxml')"
      ],
      "execution_count": 9,
      "outputs": []
    },
    {
      "cell_type": "code",
      "metadata": {
        "id": "Hmj8oPghHR6R",
        "colab_type": "code",
        "colab": {}
      },
      "source": [
        "column_names = ['Postalcode','Borough','Neighborhood']\n",
        "toronto = pd.DataFrame(columns = column_names)\n",
        "\n",
        "content = wiki_data.find('div', class_='mw-parser-output')\n",
        "table = content.table.tbody\n",
        "postcode = 0\n",
        "borough = 0\n",
        "neighborhood = 0\n",
        "\n",
        "for tr in table.find_all('tr'):\n",
        "    i = 0\n",
        "    for td in tr.find_all('td'):\n",
        "        if i == 0:\n",
        "            postcode = td.text\n",
        "            i = i + 1\n",
        "        elif i == 1:\n",
        "            borough = td.text\n",
        "            i = i + 1\n",
        "        elif i == 2: \n",
        "            neighborhood = td.text.strip('\\n').replace(']','')\n",
        "    toronto = toronto.append({'Postalcode': postcode,'Borough': borough,'Neighborhood': neighborhood},ignore_index=True)"
      ],
      "execution_count": 10,
      "outputs": []
    },
    {
      "cell_type": "code",
      "metadata": {
        "id": "PM_BHE0OHdwX",
        "colab_type": "code",
        "colab": {}
      },
      "source": [
        "# clean dataframe \n",
        "toronto = toronto[toronto.Borough!='Not assigned']\n",
        "toronto = toronto[toronto.Borough!= 0]\n",
        "toronto.reset_index(drop = True, inplace = True)\n",
        "i = 0\n",
        "for i in range(0,toronto.shape[0]):\n",
        "    if toronto.iloc[i][2] == 'Not assigned':\n",
        "        toronto.iloc[i][2] = toronto.iloc[i][1]\n",
        "        i = i+1"
      ],
      "execution_count": 11,
      "outputs": []
    },
    {
      "cell_type": "code",
      "metadata": {
        "id": "0i8UT3sZHjBK",
        "colab_type": "code",
        "colab": {
          "base_uri": "https://localhost:8080/",
          "height": 204
        },
        "outputId": "3d0f6cd4-7651-40cb-c55c-d69c2a9de667"
      },
      "source": [
        "df = toronto.groupby(['Postalcode','Borough'])['Neighborhood'].apply(', '.join).reset_index()\n",
        "df.head()"
      ],
      "execution_count": 12,
      "outputs": [
        {
          "output_type": "execute_result",
          "data": {
            "text/html": [
              "<div>\n",
              "<style scoped>\n",
              "    .dataframe tbody tr th:only-of-type {\n",
              "        vertical-align: middle;\n",
              "    }\n",
              "\n",
              "    .dataframe tbody tr th {\n",
              "        vertical-align: top;\n",
              "    }\n",
              "\n",
              "    .dataframe thead th {\n",
              "        text-align: right;\n",
              "    }\n",
              "</style>\n",
              "<table border=\"1\" class=\"dataframe\">\n",
              "  <thead>\n",
              "    <tr style=\"text-align: right;\">\n",
              "      <th></th>\n",
              "      <th>Postalcode</th>\n",
              "      <th>Borough</th>\n",
              "      <th>Neighborhood</th>\n",
              "    </tr>\n",
              "  </thead>\n",
              "  <tbody>\n",
              "    <tr>\n",
              "      <th>0</th>\n",
              "      <td>M1A\\n</td>\n",
              "      <td>Not assigned\\n</td>\n",
              "      <td>Not assigned\\n</td>\n",
              "    </tr>\n",
              "    <tr>\n",
              "      <th>1</th>\n",
              "      <td>M1B\\n</td>\n",
              "      <td>Scarborough\\n</td>\n",
              "      <td>Malvern, Rouge</td>\n",
              "    </tr>\n",
              "    <tr>\n",
              "      <th>2</th>\n",
              "      <td>M1C\\n</td>\n",
              "      <td>Scarborough\\n</td>\n",
              "      <td>Rouge Hill, Port Union, Highland Creek</td>\n",
              "    </tr>\n",
              "    <tr>\n",
              "      <th>3</th>\n",
              "      <td>M1E\\n</td>\n",
              "      <td>Scarborough\\n</td>\n",
              "      <td>Guildwood, Morningside, West Hill</td>\n",
              "    </tr>\n",
              "    <tr>\n",
              "      <th>4</th>\n",
              "      <td>M1G\\n</td>\n",
              "      <td>Scarborough\\n</td>\n",
              "      <td>Woburn</td>\n",
              "    </tr>\n",
              "  </tbody>\n",
              "</table>\n",
              "</div>"
            ],
            "text/plain": [
              "  Postalcode         Borough                            Neighborhood\n",
              "0      M1A\\n  Not assigned\\n                          Not assigned\\n\n",
              "1      M1B\\n   Scarborough\\n                          Malvern, Rouge\n",
              "2      M1C\\n   Scarborough\\n  Rouge Hill, Port Union, Highland Creek\n",
              "3      M1E\\n   Scarborough\\n       Guildwood, Morningside, West Hill\n",
              "4      M1G\\n   Scarborough\\n                                  Woburn"
            ]
          },
          "metadata": {
            "tags": []
          },
          "execution_count": 12
        }
      ]
    },
    {
      "cell_type": "code",
      "metadata": {
        "id": "hDqNJBviHmkr",
        "colab_type": "code",
        "colab": {
          "base_uri": "https://localhost:8080/",
          "height": 173
        },
        "outputId": "661913ee-4aae-4b6e-f3c7-dfacb268828a"
      },
      "source": [
        "df.describe()"
      ],
      "execution_count": 13,
      "outputs": [
        {
          "output_type": "execute_result",
          "data": {
            "text/html": [
              "<div>\n",
              "<style scoped>\n",
              "    .dataframe tbody tr th:only-of-type {\n",
              "        vertical-align: middle;\n",
              "    }\n",
              "\n",
              "    .dataframe tbody tr th {\n",
              "        vertical-align: top;\n",
              "    }\n",
              "\n",
              "    .dataframe thead th {\n",
              "        text-align: right;\n",
              "    }\n",
              "</style>\n",
              "<table border=\"1\" class=\"dataframe\">\n",
              "  <thead>\n",
              "    <tr style=\"text-align: right;\">\n",
              "      <th></th>\n",
              "      <th>Postalcode</th>\n",
              "      <th>Borough</th>\n",
              "      <th>Neighborhood</th>\n",
              "    </tr>\n",
              "  </thead>\n",
              "  <tbody>\n",
              "    <tr>\n",
              "      <th>count</th>\n",
              "      <td>180</td>\n",
              "      <td>180</td>\n",
              "      <td>180</td>\n",
              "    </tr>\n",
              "    <tr>\n",
              "      <th>unique</th>\n",
              "      <td>180</td>\n",
              "      <td>11</td>\n",
              "      <td>100</td>\n",
              "    </tr>\n",
              "    <tr>\n",
              "      <th>top</th>\n",
              "      <td>M4X\\n</td>\n",
              "      <td>Not assigned\\n</td>\n",
              "      <td>Not assigned\\n</td>\n",
              "    </tr>\n",
              "    <tr>\n",
              "      <th>freq</th>\n",
              "      <td>1</td>\n",
              "      <td>77</td>\n",
              "      <td>77</td>\n",
              "    </tr>\n",
              "  </tbody>\n",
              "</table>\n",
              "</div>"
            ],
            "text/plain": [
              "       Postalcode         Borough    Neighborhood\n",
              "count         180             180             180\n",
              "unique        180              11             100\n",
              "top         M4X\\n  Not assigned\\n  Not assigned\\n\n",
              "freq            1              77              77"
            ]
          },
          "metadata": {
            "tags": []
          },
          "execution_count": 13
        }
      ]
    },
    {
      "cell_type": "code",
      "metadata": {
        "id": "j4IJEfC4HqKC",
        "colab_type": "code",
        "colab": {}
      },
      "source": [
        "df = df.dropna()\n",
        "empty = 'Not assigned'\n",
        "df = df[(df.Postalcode != empty ) & (df.Borough != empty) & (df.Neighborhood != empty)]"
      ],
      "execution_count": 14,
      "outputs": []
    },
    {
      "cell_type": "code",
      "metadata": {
        "id": "Mk1i84AmH2sF",
        "colab_type": "code",
        "colab": {
          "base_uri": "https://localhost:8080/",
          "height": 204
        },
        "outputId": "de19b3a4-d886-409b-f834-79a052be35ff"
      },
      "source": [
        "df.head()"
      ],
      "execution_count": 15,
      "outputs": [
        {
          "output_type": "execute_result",
          "data": {
            "text/html": [
              "<div>\n",
              "<style scoped>\n",
              "    .dataframe tbody tr th:only-of-type {\n",
              "        vertical-align: middle;\n",
              "    }\n",
              "\n",
              "    .dataframe tbody tr th {\n",
              "        vertical-align: top;\n",
              "    }\n",
              "\n",
              "    .dataframe thead th {\n",
              "        text-align: right;\n",
              "    }\n",
              "</style>\n",
              "<table border=\"1\" class=\"dataframe\">\n",
              "  <thead>\n",
              "    <tr style=\"text-align: right;\">\n",
              "      <th></th>\n",
              "      <th>Postalcode</th>\n",
              "      <th>Borough</th>\n",
              "      <th>Neighborhood</th>\n",
              "    </tr>\n",
              "  </thead>\n",
              "  <tbody>\n",
              "    <tr>\n",
              "      <th>0</th>\n",
              "      <td>M1A\\n</td>\n",
              "      <td>Not assigned\\n</td>\n",
              "      <td>Not assigned\\n</td>\n",
              "    </tr>\n",
              "    <tr>\n",
              "      <th>1</th>\n",
              "      <td>M1B\\n</td>\n",
              "      <td>Scarborough\\n</td>\n",
              "      <td>Malvern, Rouge</td>\n",
              "    </tr>\n",
              "    <tr>\n",
              "      <th>2</th>\n",
              "      <td>M1C\\n</td>\n",
              "      <td>Scarborough\\n</td>\n",
              "      <td>Rouge Hill, Port Union, Highland Creek</td>\n",
              "    </tr>\n",
              "    <tr>\n",
              "      <th>3</th>\n",
              "      <td>M1E\\n</td>\n",
              "      <td>Scarborough\\n</td>\n",
              "      <td>Guildwood, Morningside, West Hill</td>\n",
              "    </tr>\n",
              "    <tr>\n",
              "      <th>4</th>\n",
              "      <td>M1G\\n</td>\n",
              "      <td>Scarborough\\n</td>\n",
              "      <td>Woburn</td>\n",
              "    </tr>\n",
              "  </tbody>\n",
              "</table>\n",
              "</div>"
            ],
            "text/plain": [
              "  Postalcode         Borough                            Neighborhood\n",
              "0      M1A\\n  Not assigned\\n                          Not assigned\\n\n",
              "1      M1B\\n   Scarborough\\n                          Malvern, Rouge\n",
              "2      M1C\\n   Scarborough\\n  Rouge Hill, Port Union, Highland Creek\n",
              "3      M1E\\n   Scarborough\\n       Guildwood, Morningside, West Hill\n",
              "4      M1G\\n   Scarborough\\n                                  Woburn"
            ]
          },
          "metadata": {
            "tags": []
          },
          "execution_count": 15
        }
      ]
    },
    {
      "cell_type": "code",
      "metadata": {
        "id": "nLpDBplmH4OT",
        "colab_type": "code",
        "colab": {}
      },
      "source": [
        "def neighborhood_list(grouped):    \n",
        "    return ', '.join(sorted(grouped['Neighborhood'].tolist()))\n",
        "                    \n",
        "grp = df.groupby(['Postalcode', 'Borough'])\n",
        "df_2 = grp.apply(neighborhood_list).reset_index(name='Neighborhood')"
      ],
      "execution_count": 16,
      "outputs": []
    },
    {
      "cell_type": "code",
      "metadata": {
        "id": "Qz5RVoC8IAno",
        "colab_type": "code",
        "colab": {
          "base_uri": "https://localhost:8080/",
          "height": 173
        },
        "outputId": "ec44ec9d-23ae-4257-fe43-ea9367da0aaf"
      },
      "source": [
        "df_2.describe()"
      ],
      "execution_count": 17,
      "outputs": [
        {
          "output_type": "execute_result",
          "data": {
            "text/html": [
              "<div>\n",
              "<style scoped>\n",
              "    .dataframe tbody tr th:only-of-type {\n",
              "        vertical-align: middle;\n",
              "    }\n",
              "\n",
              "    .dataframe tbody tr th {\n",
              "        vertical-align: top;\n",
              "    }\n",
              "\n",
              "    .dataframe thead th {\n",
              "        text-align: right;\n",
              "    }\n",
              "</style>\n",
              "<table border=\"1\" class=\"dataframe\">\n",
              "  <thead>\n",
              "    <tr style=\"text-align: right;\">\n",
              "      <th></th>\n",
              "      <th>Postalcode</th>\n",
              "      <th>Borough</th>\n",
              "      <th>Neighborhood</th>\n",
              "    </tr>\n",
              "  </thead>\n",
              "  <tbody>\n",
              "    <tr>\n",
              "      <th>count</th>\n",
              "      <td>180</td>\n",
              "      <td>180</td>\n",
              "      <td>180</td>\n",
              "    </tr>\n",
              "    <tr>\n",
              "      <th>unique</th>\n",
              "      <td>180</td>\n",
              "      <td>11</td>\n",
              "      <td>100</td>\n",
              "    </tr>\n",
              "    <tr>\n",
              "      <th>top</th>\n",
              "      <td>M4X\\n</td>\n",
              "      <td>Not assigned\\n</td>\n",
              "      <td>Not assigned\\n</td>\n",
              "    </tr>\n",
              "    <tr>\n",
              "      <th>freq</th>\n",
              "      <td>1</td>\n",
              "      <td>77</td>\n",
              "      <td>77</td>\n",
              "    </tr>\n",
              "  </tbody>\n",
              "</table>\n",
              "</div>"
            ],
            "text/plain": [
              "       Postalcode         Borough    Neighborhood\n",
              "count         180             180             180\n",
              "unique        180              11             100\n",
              "top         M4X\\n  Not assigned\\n  Not assigned\\n\n",
              "freq            1              77              77"
            ]
          },
          "metadata": {
            "tags": []
          },
          "execution_count": 17
        }
      ]
    },
    {
      "cell_type": "code",
      "metadata": {
        "id": "AVDE_Oa_IFIw",
        "colab_type": "code",
        "colab": {
          "base_uri": "https://localhost:8080/",
          "height": 221
        },
        "outputId": "d2b1213b-8798-4c9b-c401-be1b90af6d13"
      },
      "source": [
        "print(df_2.shape)\n",
        "df_2.head()"
      ],
      "execution_count": 18,
      "outputs": [
        {
          "output_type": "stream",
          "text": [
            "(180, 3)\n"
          ],
          "name": "stdout"
        },
        {
          "output_type": "execute_result",
          "data": {
            "text/html": [
              "<div>\n",
              "<style scoped>\n",
              "    .dataframe tbody tr th:only-of-type {\n",
              "        vertical-align: middle;\n",
              "    }\n",
              "\n",
              "    .dataframe tbody tr th {\n",
              "        vertical-align: top;\n",
              "    }\n",
              "\n",
              "    .dataframe thead th {\n",
              "        text-align: right;\n",
              "    }\n",
              "</style>\n",
              "<table border=\"1\" class=\"dataframe\">\n",
              "  <thead>\n",
              "    <tr style=\"text-align: right;\">\n",
              "      <th></th>\n",
              "      <th>Postalcode</th>\n",
              "      <th>Borough</th>\n",
              "      <th>Neighborhood</th>\n",
              "    </tr>\n",
              "  </thead>\n",
              "  <tbody>\n",
              "    <tr>\n",
              "      <th>0</th>\n",
              "      <td>M1A\\n</td>\n",
              "      <td>Not assigned\\n</td>\n",
              "      <td>Not assigned\\n</td>\n",
              "    </tr>\n",
              "    <tr>\n",
              "      <th>1</th>\n",
              "      <td>M1B\\n</td>\n",
              "      <td>Scarborough\\n</td>\n",
              "      <td>Malvern, Rouge</td>\n",
              "    </tr>\n",
              "    <tr>\n",
              "      <th>2</th>\n",
              "      <td>M1C\\n</td>\n",
              "      <td>Scarborough\\n</td>\n",
              "      <td>Rouge Hill, Port Union, Highland Creek</td>\n",
              "    </tr>\n",
              "    <tr>\n",
              "      <th>3</th>\n",
              "      <td>M1E\\n</td>\n",
              "      <td>Scarborough\\n</td>\n",
              "      <td>Guildwood, Morningside, West Hill</td>\n",
              "    </tr>\n",
              "    <tr>\n",
              "      <th>4</th>\n",
              "      <td>M1G\\n</td>\n",
              "      <td>Scarborough\\n</td>\n",
              "      <td>Woburn</td>\n",
              "    </tr>\n",
              "  </tbody>\n",
              "</table>\n",
              "</div>"
            ],
            "text/plain": [
              "  Postalcode         Borough                            Neighborhood\n",
              "0      M1A\\n  Not assigned\\n                          Not assigned\\n\n",
              "1      M1B\\n   Scarborough\\n                          Malvern, Rouge\n",
              "2      M1C\\n   Scarborough\\n  Rouge Hill, Port Union, Highland Creek\n",
              "3      M1E\\n   Scarborough\\n       Guildwood, Morningside, West Hill\n",
              "4      M1G\\n   Scarborough\\n                                  Woburn"
            ]
          },
          "metadata": {
            "tags": []
          },
          "execution_count": 18
        }
      ]
    },
    {
      "cell_type": "code",
      "metadata": {
        "id": "MtEIOwUBIHk8",
        "colab_type": "code",
        "colab": {
          "base_uri": "https://localhost:8080/",
          "height": 34
        },
        "outputId": "930d884d-a22b-4926-c772-75cfd9ea9017"
      },
      "source": [
        "\n",
        "def get_latilong(postal_code):\n",
        "    lati_long_coords = None\n",
        "    while(lati_long_coords is None):\n",
        "        g = geocoder.arcgis('{}, Toronto, Ontario'.format(postal_code))\n",
        "        lati_long_coords = g.latlng\n",
        "    return lati_long_coords\n",
        "    \n",
        "get_latilong('M4G')"
      ],
      "execution_count": 19,
      "outputs": [
        {
          "output_type": "execute_result",
          "data": {
            "text/plain": [
              "[43.70909000000006, -79.36409999999995]"
            ]
          },
          "metadata": {
            "tags": []
          },
          "execution_count": 19
        }
      ]
    },
    {
      "cell_type": "code",
      "metadata": {
        "id": "WLtKFxHCI7Z8",
        "colab_type": "code",
        "colab": {}
      },
      "source": [
        "\n",
        "# Retrieving Postal Code Co-ordinates\n",
        "postal_codes = df_2['Postalcode']    \n",
        "coords = [ get_latilong(postal_code) for postal_code in postal_codes.tolist() ]"
      ],
      "execution_count": null,
      "outputs": []
    },
    {
      "cell_type": "code",
      "metadata": {
        "id": "NXq_bppSI8Qc",
        "colab_type": "code",
        "colab": {}
      },
      "source": [
        "# Adding Columns Latitude & Longitude\n",
        "df_coords = pd.DataFrame(coords, columns=['Latitude', 'Longitude'])\n",
        "df_2['Latitude'] = df_coords['Latitude']\n",
        "df_2['Longitude'] = df_coords['Longitude']"
      ],
      "execution_count": null,
      "outputs": []
    },
    {
      "cell_type": "code",
      "metadata": {
        "id": "MSsT1nQEKyVg",
        "colab_type": "code",
        "colab": {
          "base_uri": "https://localhost:8080/",
          "height": 49
        },
        "outputId": "135305fb-2538-410b-c18d-fbe46cce7011"
      },
      "source": [
        "df_2[df_2.Postalcode == 'M5G']"
      ],
      "execution_count": 24,
      "outputs": [
        {
          "output_type": "execute_result",
          "data": {
            "text/html": [
              "<div>\n",
              "<style scoped>\n",
              "    .dataframe tbody tr th:only-of-type {\n",
              "        vertical-align: middle;\n",
              "    }\n",
              "\n",
              "    .dataframe tbody tr th {\n",
              "        vertical-align: top;\n",
              "    }\n",
              "\n",
              "    .dataframe thead th {\n",
              "        text-align: right;\n",
              "    }\n",
              "</style>\n",
              "<table border=\"1\" class=\"dataframe\">\n",
              "  <thead>\n",
              "    <tr style=\"text-align: right;\">\n",
              "      <th></th>\n",
              "      <th>Postalcode</th>\n",
              "      <th>Borough</th>\n",
              "      <th>Neighborhood</th>\n",
              "    </tr>\n",
              "  </thead>\n",
              "  <tbody>\n",
              "  </tbody>\n",
              "</table>\n",
              "</div>"
            ],
            "text/plain": [
              "Empty DataFrame\n",
              "Columns: [Postalcode, Borough, Neighborhood]\n",
              "Index: []"
            ]
          },
          "metadata": {
            "tags": []
          },
          "execution_count": 24
        }
      ]
    },
    {
      "cell_type": "code",
      "metadata": {
        "id": "zpD9XVEfK-0K",
        "colab_type": "code",
        "colab": {
          "base_uri": "https://localhost:8080/",
          "height": 359
        },
        "outputId": "a0a60560-1363-432b-90a3-adaa7694cfbd"
      },
      "source": [
        "df_2.head(10)"
      ],
      "execution_count": 25,
      "outputs": [
        {
          "output_type": "execute_result",
          "data": {
            "text/html": [
              "<div>\n",
              "<style scoped>\n",
              "    .dataframe tbody tr th:only-of-type {\n",
              "        vertical-align: middle;\n",
              "    }\n",
              "\n",
              "    .dataframe tbody tr th {\n",
              "        vertical-align: top;\n",
              "    }\n",
              "\n",
              "    .dataframe thead th {\n",
              "        text-align: right;\n",
              "    }\n",
              "</style>\n",
              "<table border=\"1\" class=\"dataframe\">\n",
              "  <thead>\n",
              "    <tr style=\"text-align: right;\">\n",
              "      <th></th>\n",
              "      <th>Postalcode</th>\n",
              "      <th>Borough</th>\n",
              "      <th>Neighborhood</th>\n",
              "    </tr>\n",
              "  </thead>\n",
              "  <tbody>\n",
              "    <tr>\n",
              "      <th>0</th>\n",
              "      <td>M1A\\n</td>\n",
              "      <td>Not assigned\\n</td>\n",
              "      <td>Not assigned\\n</td>\n",
              "    </tr>\n",
              "    <tr>\n",
              "      <th>1</th>\n",
              "      <td>M1B\\n</td>\n",
              "      <td>Scarborough\\n</td>\n",
              "      <td>Malvern, Rouge</td>\n",
              "    </tr>\n",
              "    <tr>\n",
              "      <th>2</th>\n",
              "      <td>M1C\\n</td>\n",
              "      <td>Scarborough\\n</td>\n",
              "      <td>Rouge Hill, Port Union, Highland Creek</td>\n",
              "    </tr>\n",
              "    <tr>\n",
              "      <th>3</th>\n",
              "      <td>M1E\\n</td>\n",
              "      <td>Scarborough\\n</td>\n",
              "      <td>Guildwood, Morningside, West Hill</td>\n",
              "    </tr>\n",
              "    <tr>\n",
              "      <th>4</th>\n",
              "      <td>M1G\\n</td>\n",
              "      <td>Scarborough\\n</td>\n",
              "      <td>Woburn</td>\n",
              "    </tr>\n",
              "    <tr>\n",
              "      <th>5</th>\n",
              "      <td>M1H\\n</td>\n",
              "      <td>Scarborough\\n</td>\n",
              "      <td>Cedarbrae</td>\n",
              "    </tr>\n",
              "    <tr>\n",
              "      <th>6</th>\n",
              "      <td>M1J\\n</td>\n",
              "      <td>Scarborough\\n</td>\n",
              "      <td>Scarborough Village</td>\n",
              "    </tr>\n",
              "    <tr>\n",
              "      <th>7</th>\n",
              "      <td>M1K\\n</td>\n",
              "      <td>Scarborough\\n</td>\n",
              "      <td>Kennedy Park, Ionview, East Birchmount Park</td>\n",
              "    </tr>\n",
              "    <tr>\n",
              "      <th>8</th>\n",
              "      <td>M1L\\n</td>\n",
              "      <td>Scarborough\\n</td>\n",
              "      <td>Golden Mile, Clairlea, Oakridge</td>\n",
              "    </tr>\n",
              "    <tr>\n",
              "      <th>9</th>\n",
              "      <td>M1M\\n</td>\n",
              "      <td>Scarborough\\n</td>\n",
              "      <td>Cliffside, Cliffcrest, Scarborough Village West</td>\n",
              "    </tr>\n",
              "  </tbody>\n",
              "</table>\n",
              "</div>"
            ],
            "text/plain": [
              "  Postalcode         Borough                                     Neighborhood\n",
              "0      M1A\\n  Not assigned\\n                                   Not assigned\\n\n",
              "1      M1B\\n   Scarborough\\n                                   Malvern, Rouge\n",
              "2      M1C\\n   Scarborough\\n           Rouge Hill, Port Union, Highland Creek\n",
              "3      M1E\\n   Scarborough\\n                Guildwood, Morningside, West Hill\n",
              "4      M1G\\n   Scarborough\\n                                           Woburn\n",
              "5      M1H\\n   Scarborough\\n                                        Cedarbrae\n",
              "6      M1J\\n   Scarborough\\n                              Scarborough Village\n",
              "7      M1K\\n   Scarborough\\n      Kennedy Park, Ionview, East Birchmount Park\n",
              "8      M1L\\n   Scarborough\\n                  Golden Mile, Clairlea, Oakridge\n",
              "9      M1M\\n   Scarborough\\n  Cliffside, Cliffcrest, Scarborough Village West"
            ]
          },
          "metadata": {
            "tags": []
          },
          "execution_count": 25
        }
      ]
    },
    {
      "cell_type": "code",
      "metadata": {
        "id": "DxqORs0fK_F7",
        "colab_type": "code",
        "colab": {
          "base_uri": "https://localhost:8080/",
          "height": 34
        },
        "outputId": "0f266247-e9bb-4489-a54e-956ef86badb0"
      },
      "source": [
        "address = 'Scarborough,Toronto'\n",
        "\n",
        "geolocator = Nominatim()\n",
        "location = geolocator.geocode(address)\n",
        "latitude_x = location.latitude\n",
        "longitude_y = location.longitude\n",
        "print('The Geograpical Co-ordinate of Seattle,Washington are {}, {}.'.format(latitude_x, longitude_y))"
      ],
      "execution_count": 26,
      "outputs": [
        {
          "output_type": "stream",
          "text": [
            "The Geograpical Co-ordinate of Seattle,Washington are 43.773077, -79.257774.\n"
          ],
          "name": "stdout"
        }
      ]
    },
    {
      "cell_type": "code",
      "metadata": {
        "id": "eWmyZPI4ZSDH",
        "colab_type": "code",
        "colab": {}
      },
      "source": [
        "\n",
        "map_Scarborough = folium.Map(location=[latitude_x, longitude_y], zoom_start=10)\n",
        "\n",
        "for lat, lng, nei in zip(df_2['Latitude'], df_2['Longitude'], df_2['Neighborhood']):\n",
        "    \n",
        "    label = '{}'.format(nei)\n",
        "    label = folium.Popup(label, parse_html=True)\n",
        "    folium.CircleMarker(\n",
        "        [lat, lng],\n",
        "        radius=5,\n",
        "        popup=label,\n",
        "        color='blue',\n",
        "        fill=True,\n",
        "        fill_color='#3186cc',\n",
        "        fill_opacity=0.7,\n",
        "        parse_html=False).add_to(map_Scarborough)  \n",
        "    \n",
        "map_Scarborough"
      ],
      "execution_count": null,
      "outputs": []
    },
    {
      "cell_type": "code",
      "metadata": {
        "id": "wwAfWQ69K_Lx",
        "colab_type": "code",
        "colab": {
          "base_uri": "https://localhost:8080/",
          "height": 34
        },
        "outputId": "3f0e3091-3d25-4eb5-f1ed-6ee287531e8f"
      },
      "source": [
        "\n",
        "address = 'Scarborough,Toronto'\n",
        "\n",
        "geolocator = Nominatim()\n",
        "location = geolocator.geocode(address)\n",
        "latitude_n1 = location.latitude\n",
        "longitude_n1 = location.longitude\n",
        "print('The Geograpical Co-ordinate of Neighborhood_1 are {}, {}.'.format(latitude_x, longitude_y))"
      ],
      "execution_count": 29,
      "outputs": [
        {
          "output_type": "stream",
          "text": [
            "The Geograpical Co-ordinate of Neighborhood_1 are 43.773077, -79.257774.\n"
          ],
          "name": "stdout"
        }
      ]
    },
    {
      "cell_type": "code",
      "metadata": {
        "id": "8W8dqccKK_OT",
        "colab_type": "code",
        "colab": {
          "base_uri": "https://localhost:8080/",
          "height": 68
        },
        "outputId": "5b4982e7-673c-4fc2-d94e-3d2f3807b60a"
      },
      "source": [
        "# @hiddel_cell\n",
        "CLIENT_ID = 'AJLTHNUXS15YMN3GCBZRPFE0D1WS0ABPYWIRLRO33ND4VKEF' # my Foursquare ID\n",
        "CLIENT_SECRET = '315SEFLGUOFHCGOPMXR4KIEAZYW5FP5VK3XPUKYHXTWFA2TT' # my Foursquare Secret\n",
        "VERSION = '20180604'\n",
        "LIMIT = 30\n",
        "print('Your credentails:')\n",
        "print('CLIENT_ID: '+CLIENT_ID)\n",
        "print('CLIENT_SECRET: '+CLIENT_SECRET)"
      ],
      "execution_count": 30,
      "outputs": [
        {
          "output_type": "stream",
          "text": [
            "Your credentails:\n",
            "CLIENT_ID: DPBYY4JUY3DU20ALPSUV4ONY2K1GOJJKJ1NIHBB32XEMOVYY\n",
            "CLIENT_SECRET: 1MV443TYEP4HUO0WDUW5NQ5W10L2Y4G05NWG11WIR3NUGC5B\n"
          ],
          "name": "stdout"
        }
      ]
    },
    {
      "cell_type": "code",
      "metadata": {
        "id": "Fm3ufG_vK_Sr",
        "colab_type": "code",
        "colab": {}
      },
      "source": [
        "radius = 700 \n",
        "LIMIT = 100\n",
        "url = 'https://api.foursquare.com/v2/venues/explore?&client_id={}&client_secret={}&v={}&ll={},{}&radius={}&limit={}'.format(\n",
        "    CLIENT_ID, \n",
        "    CLIENT_SECRET, \n",
        "    VERSION, \n",
        "    latitude_n1, \n",
        "   longitude_n1, \n",
        "    radius, \n",
        "   LIMIT)\n",
        "results = requests.get(url).json()"
      ],
      "execution_count": 31,
      "outputs": []
    },
    {
      "cell_type": "code",
      "metadata": {
        "id": "y3ZTMXZZK_ah",
        "colab_type": "code",
        "colab": {
          "base_uri": "https://localhost:8080/",
          "height": 187
        },
        "outputId": "932433fa-173d-49c6-be47-c89a64c9b7d3"
      },
      "source": [
        "venues=results['response']['groups'][0]['items']\n",
        "nearby_venues = json_normalize(venues)\n",
        "nearby_venues.columns"
      ],
      "execution_count": 32,
      "outputs": [
        {
          "output_type": "execute_result",
          "data": {
            "text/plain": [
              "Index(['referralId', 'reasons.count', 'reasons.items', 'venue.id',\n",
              "       'venue.name', 'venue.location.address', 'venue.location.crossStreet',\n",
              "       'venue.location.lat', 'venue.location.lng',\n",
              "       'venue.location.labeledLatLngs', 'venue.location.distance',\n",
              "       'venue.location.postalCode', 'venue.location.cc', 'venue.location.city',\n",
              "       'venue.location.state', 'venue.location.country',\n",
              "       'venue.location.formattedAddress', 'venue.categories',\n",
              "       'venue.photos.count', 'venue.photos.groups',\n",
              "       'venue.location.neighborhood', 'venue.venuePage.id'],\n",
              "      dtype='object')"
            ]
          },
          "metadata": {
            "tags": []
          },
          "execution_count": 32
        }
      ]
    },
    {
      "cell_type": "code",
      "metadata": {
        "id": "hyH4SjnHK_dO",
        "colab_type": "code",
        "colab": {}
      },
      "source": [
        "def get_category_type(row):\n",
        "    try:\n",
        "        categories_list = row['categories']\n",
        "    except:\n",
        "        categories_list = row['venue.categories']\n",
        "        \n",
        "    if len(categories_list) == 0:\n",
        "        return None\n",
        "    else:\n",
        "        return categories_list[0]['name']"
      ],
      "execution_count": 33,
      "outputs": []
    },
    {
      "cell_type": "code",
      "metadata": {
        "id": "WzYEclstK_gU",
        "colab_type": "code",
        "colab": {
          "base_uri": "https://localhost:8080/",
          "height": 204
        },
        "outputId": "5325fc7d-a40c-4c01-f347-40d277072c93"
      },
      "source": [
        "filtered_columns = ['venue.name', 'venue.categories', 'venue.location.lat', 'venue.location.lng']\n",
        "nearby_venues =nearby_venues.loc[:, filtered_columns]\n",
        "nearby_venues.head()"
      ],
      "execution_count": 34,
      "outputs": [
        {
          "output_type": "execute_result",
          "data": {
            "text/html": [
              "<div>\n",
              "<style scoped>\n",
              "    .dataframe tbody tr th:only-of-type {\n",
              "        vertical-align: middle;\n",
              "    }\n",
              "\n",
              "    .dataframe tbody tr th {\n",
              "        vertical-align: top;\n",
              "    }\n",
              "\n",
              "    .dataframe thead th {\n",
              "        text-align: right;\n",
              "    }\n",
              "</style>\n",
              "<table border=\"1\" class=\"dataframe\">\n",
              "  <thead>\n",
              "    <tr style=\"text-align: right;\">\n",
              "      <th></th>\n",
              "      <th>venue.name</th>\n",
              "      <th>venue.categories</th>\n",
              "      <th>venue.location.lat</th>\n",
              "      <th>venue.location.lng</th>\n",
              "    </tr>\n",
              "  </thead>\n",
              "  <tbody>\n",
              "    <tr>\n",
              "      <th>0</th>\n",
              "      <td>SEPHORA</td>\n",
              "      <td>[{'id': '4bf58dd8d48988d10c951735', 'name': 'C...</td>\n",
              "      <td>43.775017</td>\n",
              "      <td>-79.258109</td>\n",
              "    </tr>\n",
              "    <tr>\n",
              "      <th>1</th>\n",
              "      <td>Disney Store</td>\n",
              "      <td>[{'id': '4bf58dd8d48988d1f3941735', 'name': 'T...</td>\n",
              "      <td>43.775537</td>\n",
              "      <td>-79.256833</td>\n",
              "    </tr>\n",
              "    <tr>\n",
              "      <th>2</th>\n",
              "      <td>American Eagle Store</td>\n",
              "      <td>[{'id': '4bf58dd8d48988d103951735', 'name': 'C...</td>\n",
              "      <td>43.776012</td>\n",
              "      <td>-79.258334</td>\n",
              "    </tr>\n",
              "    <tr>\n",
              "      <th>3</th>\n",
              "      <td>Hot Topic</td>\n",
              "      <td>[{'id': '4bf58dd8d48988d103951735', 'name': 'C...</td>\n",
              "      <td>43.775450</td>\n",
              "      <td>-79.257929</td>\n",
              "    </tr>\n",
              "    <tr>\n",
              "      <th>4</th>\n",
              "      <td>DAVIDsTEA</td>\n",
              "      <td>[{'id': '4bf58dd8d48988d1dc931735', 'name': 'T...</td>\n",
              "      <td>43.776320</td>\n",
              "      <td>-79.258688</td>\n",
              "    </tr>\n",
              "  </tbody>\n",
              "</table>\n",
              "</div>"
            ],
            "text/plain": [
              "             venue.name                                   venue.categories  \\\n",
              "0               SEPHORA  [{'id': '4bf58dd8d48988d10c951735', 'name': 'C...   \n",
              "1          Disney Store  [{'id': '4bf58dd8d48988d1f3941735', 'name': 'T...   \n",
              "2  American Eagle Store  [{'id': '4bf58dd8d48988d103951735', 'name': 'C...   \n",
              "3             Hot Topic  [{'id': '4bf58dd8d48988d103951735', 'name': 'C...   \n",
              "4             DAVIDsTEA  [{'id': '4bf58dd8d48988d1dc931735', 'name': 'T...   \n",
              "\n",
              "   venue.location.lat  venue.location.lng  \n",
              "0           43.775017          -79.258109  \n",
              "1           43.775537          -79.256833  \n",
              "2           43.776012          -79.258334  \n",
              "3           43.775450          -79.257929  \n",
              "4           43.776320          -79.258688  "
            ]
          },
          "metadata": {
            "tags": []
          },
          "execution_count": 34
        }
      ]
    },
    {
      "cell_type": "code",
      "metadata": {
        "id": "FUGh-JqLK_jJ",
        "colab_type": "code",
        "colab": {
          "base_uri": "https://localhost:8080/",
          "height": 204
        },
        "outputId": "d1b958ac-e250-4266-e332-e031ad75f34a"
      },
      "source": [
        "nearby_venues['venue.categories'] = nearby_venues.apply(get_category_type, axis=1)\n",
        "\n",
        "# clean columns\n",
        "nearby_venues.columns = [col.split(\".\")[-1] for col in nearby_venues.columns]\n",
        "\n",
        "nearby_venues.head(5)"
      ],
      "execution_count": 35,
      "outputs": [
        {
          "output_type": "execute_result",
          "data": {
            "text/html": [
              "<div>\n",
              "<style scoped>\n",
              "    .dataframe tbody tr th:only-of-type {\n",
              "        vertical-align: middle;\n",
              "    }\n",
              "\n",
              "    .dataframe tbody tr th {\n",
              "        vertical-align: top;\n",
              "    }\n",
              "\n",
              "    .dataframe thead th {\n",
              "        text-align: right;\n",
              "    }\n",
              "</style>\n",
              "<table border=\"1\" class=\"dataframe\">\n",
              "  <thead>\n",
              "    <tr style=\"text-align: right;\">\n",
              "      <th></th>\n",
              "      <th>name</th>\n",
              "      <th>categories</th>\n",
              "      <th>lat</th>\n",
              "      <th>lng</th>\n",
              "    </tr>\n",
              "  </thead>\n",
              "  <tbody>\n",
              "    <tr>\n",
              "      <th>0</th>\n",
              "      <td>SEPHORA</td>\n",
              "      <td>Cosmetics Shop</td>\n",
              "      <td>43.775017</td>\n",
              "      <td>-79.258109</td>\n",
              "    </tr>\n",
              "    <tr>\n",
              "      <th>1</th>\n",
              "      <td>Disney Store</td>\n",
              "      <td>Toy / Game Store</td>\n",
              "      <td>43.775537</td>\n",
              "      <td>-79.256833</td>\n",
              "    </tr>\n",
              "    <tr>\n",
              "      <th>2</th>\n",
              "      <td>American Eagle Store</td>\n",
              "      <td>Clothing Store</td>\n",
              "      <td>43.776012</td>\n",
              "      <td>-79.258334</td>\n",
              "    </tr>\n",
              "    <tr>\n",
              "      <th>3</th>\n",
              "      <td>Hot Topic</td>\n",
              "      <td>Clothing Store</td>\n",
              "      <td>43.775450</td>\n",
              "      <td>-79.257929</td>\n",
              "    </tr>\n",
              "    <tr>\n",
              "      <th>4</th>\n",
              "      <td>DAVIDsTEA</td>\n",
              "      <td>Tea Room</td>\n",
              "      <td>43.776320</td>\n",
              "      <td>-79.258688</td>\n",
              "    </tr>\n",
              "  </tbody>\n",
              "</table>\n",
              "</div>"
            ],
            "text/plain": [
              "                   name        categories        lat        lng\n",
              "0               SEPHORA    Cosmetics Shop  43.775017 -79.258109\n",
              "1          Disney Store  Toy / Game Store  43.775537 -79.256833\n",
              "2  American Eagle Store    Clothing Store  43.776012 -79.258334\n",
              "3             Hot Topic    Clothing Store  43.775450 -79.257929\n",
              "4             DAVIDsTEA          Tea Room  43.776320 -79.258688"
            ]
          },
          "metadata": {
            "tags": []
          },
          "execution_count": 35
        }
      ]
    },
    {
      "cell_type": "code",
      "metadata": {
        "id": "3ItNQTelK_RA",
        "colab_type": "code",
        "colab": {
          "base_uri": "https://localhost:8080/",
          "height": 204
        },
        "outputId": "4a45dea5-495d-4307-e51d-4c64e2ea8b90"
      },
      "source": [
        "# Top 10 Categories\n",
        "a=pd.Series(nearby_venues.categories)\n",
        "a.value_counts()[:10]"
      ],
      "execution_count": 36,
      "outputs": [
        {
          "output_type": "execute_result",
          "data": {
            "text/plain": [
              "Clothing Store         8\n",
              "Coffee Shop            5\n",
              "Restaurant             5\n",
              "Tea Room               2\n",
              "Gas Station            2\n",
              "Cosmetics Shop         2\n",
              "Pharmacy               2\n",
              "Sandwich Place         2\n",
              "Sporting Goods Shop    1\n",
              "Chocolate Shop         1\n",
              "Name: categories, dtype: int64"
            ]
          },
          "metadata": {
            "tags": []
          },
          "execution_count": 36
        }
      ]
    },
    {
      "cell_type": "code",
      "metadata": {
        "id": "pdVH8zBwcgqB",
        "colab_type": "code",
        "colab": {}
      },
      "source": [
        "def getNearbyVenues(names, latitudes, longitudes, radius=700):\n",
        "    \n",
        "    venues_list=[]\n",
        "    for name, lat, lng in zip(names, latitudes, longitudes):\n",
        "        print(name)\n",
        "            \n",
        "        url = 'https://api.foursquare.com/v2/venues/explore?&client_id={}&client_secret={}&v={}&ll={},{}&radius={}&limit={}'.format(\n",
        "            CLIENT_ID, \n",
        "            CLIENT_SECRET, \n",
        "            VERSION, \n",
        "            lat, \n",
        "            lng, \n",
        "            radius, \n",
        "            LIMIT)\n",
        "            \n",
        "        # making GET request\n",
        "        venue_results = requests.get(url).json()[\"response\"]['groups'][0]['items']\n",
        "        \n",
        "        # return only relevant information for each nearby venue\n",
        "        venues_list.append([(\n",
        "            name, \n",
        "            lat, \n",
        "            lng, \n",
        "            v['venue']['name'], \n",
        "            v['venue']['location']['lat'], \n",
        "            v['venue']['location']['lng'],  \n",
        "            v['venue']['categories'][0]['name']) for v in venue_results])\n",
        "\n",
        "    nearby_venues = pd.DataFrame([item for venue_list in venues_list for item in venue_list])\n",
        "    nearby_venues.columns = ['Neighborhood', \n",
        "                  'Neighborhood Latitude', \n",
        "                  'Neighborhood Longitude', \n",
        "                  'Venue', \n",
        "                  'Venue Latitude', \n",
        "                  'Venue Longitude', \n",
        "                  'Venue Category']\n",
        "    \n",
        "    return(nearby_venues)"
      ],
      "execution_count": null,
      "outputs": []
    },
    {
      "cell_type": "code",
      "metadata": {
        "id": "uWy3N4pXbZc4",
        "colab_type": "code",
        "colab": {}
      },
      "source": [
        "# Nearby Venues\n",
        "Scarborough_venues = getNearbyVenues(names=df_2['Neighborhood'],\n",
        "                                   latitudes=df_2['Latitude'], \n",
        "                                   longitudes=df_2['Longitude']\n",
        "                                  )"
      ],
      "execution_count": null,
      "outputs": []
    },
    {
      "cell_type": "code",
      "metadata": {
        "id": "9d5KUa-6bZ4H",
        "colab_type": "code",
        "colab": {}
      },
      "source": [
        "print('There are {} Uniques Categories.'.format(len(Scarborough_venues['Venue Category'].unique())))\n",
        "Scarborough_venues.groupby('Neighborhood').count().head()"
      ],
      "execution_count": null,
      "outputs": []
    },
    {
      "cell_type": "code",
      "metadata": {
        "id": "RhmyCDgGMVlj",
        "colab_type": "code",
        "colab": {}
      },
      "source": [
        "# one hot encoding\n",
        "Scarborough_onehot = pd.get_dummies(Scarborough_venues[['Venue Category']], prefix=\"\", prefix_sep=\"\")\n",
        "\n",
        "# add neighborhood column back to dataframe\n",
        "Scarborough_onehot['Neighborhood'] = Scarborough_venues['Neighborhood'] \n",
        "\n",
        "# move neighborhood column to the first column\n",
        "fixed_columns = [Scarborough_onehot.columns[-1]] + list(Scarborough_onehot.columns[:-1])\n",
        "Scarborough_onehot = Scarborough_onehot[fixed_columns]\n",
        "Scarborough_grouped = Scarborough_onehot.groupby('Neighborhood').mean().reset_index()\n",
        "Scarborough_onehot.head(5)"
      ],
      "execution_count": null,
      "outputs": []
    },
    {
      "cell_type": "code",
      "metadata": {
        "id": "3YDksNeTMVpI",
        "colab_type": "code",
        "colab": {}
      },
      "source": [
        "num_top_venues = 5\n",
        "for hood in Scarborough_grouped['Neighborhood']:\n",
        "    print(\"---- \"+hood+\" ----\")\n",
        "    temp =Scarborough_grouped[Scarborough_grouped['Neighborhood'] == hood].T.reset_index()\n",
        "    temp.columns = ['venue','freq']\n",
        "    temp = temp.iloc[1:]\n",
        "    temp['freq'] = temp['freq'].astype(float)\n",
        "    temp = temp.round({'freq': 2})\n",
        "    print(temp.sort_values('freq', ascending=False).reset_index(drop=True).head(num_top_venues))\n",
        "    print('\\n')"
      ],
      "execution_count": null,
      "outputs": []
    },
    {
      "cell_type": "code",
      "metadata": {
        "id": "pC6hhL51MVr4",
        "colab_type": "code",
        "colab": {}
      },
      "source": [
        "def return_most_common_venues(row, num_top_venues):\n",
        "    row_categories = row.iloc[1:]\n",
        "    row_categories_sorted = row_categories.sort_values(ascending=False)\n",
        "    \n",
        "    return row_categories_sorted.index.values[0:num_top_venues]"
      ],
      "execution_count": null,
      "outputs": []
    },
    {
      "cell_type": "code",
      "metadata": {
        "id": "uGlBBPQzMwcC",
        "colab_type": "code",
        "colab": {}
      },
      "source": [
        "import numpy as np\n",
        "num_top_venues = 10\n",
        "\n",
        "indicators = ['st', 'nd', 'rd']\n",
        "\n",
        "columns = ['Neighborhood']\n",
        "for ind in np.arange(num_top_venues):\n",
        "    try:\n",
        "        columns.append('{}{} Most Common Venue'.format(ind+1, indicators[ind]))\n",
        "    except:\n",
        "        columns.append('{}th Most Common Venue'.format(ind+1))\n",
        "\n",
        "neighborhoods_venues_sorted = pd.DataFrame(columns=columns)\n",
        "neighborhoods_venues_sorted['Neighborhood'] = Scarborough_grouped['Neighborhood']\n",
        "\n",
        "for ind in np.arange(Scarborough_grouped.shape[0]):\n",
        "    neighborhoods_venues_sorted.iloc[ind, 1:] = return_most_common_venues(Scarborough_grouped.iloc[ind, :], num_top_venues)\n",
        "\n",
        "neighborhoods_venues_sorted.head()"
      ],
      "execution_count": null,
      "outputs": []
    },
    {
      "cell_type": "code",
      "metadata": {
        "id": "-DfqAtfMMVvv",
        "colab_type": "code",
        "colab": {}
      },
      "source": [
        "\n",
        "# Using K-Means to cluster neighborhood into 3 clusters\n",
        "Scarborough_grouped_clustering = Scarborough_grouped.drop('Neighborhood', 1)\n",
        "kmeans = KMeans(n_clusters=3, random_state=0).fit(Scarborough_grouped_clustering)\n",
        "kmeans.labels_"
      ],
      "execution_count": null,
      "outputs": []
    },
    {
      "cell_type": "code",
      "metadata": {
        "id": "c9jCCO6rMVy8",
        "colab_type": "code",
        "colab": {}
      },
      "source": [
        "neighborhoods_venues_sorted.insert(0, 'Cluster Labels', kmeans.labels_)\n",
        "\n",
        "Scarborough_merged =df_2.iloc[:16,:]\n",
        "\n",
        "# merge toronto_grouped with toronto_data to add latitude/longitude for each neighborhood\n",
        "Scarborough_merged = Scarborough_merged.join(neighborhoods_venues_sorted.set_index('Neighborhood'), on='Neighborhood')\n",
        "\n",
        "Scarborough_merged.head()# check the last columns!"
      ],
      "execution_count": null,
      "outputs": []
    },
    {
      "cell_type": "code",
      "metadata": {
        "id": "HLjz-AJfMV1T",
        "colab_type": "code",
        "colab": {}
      },
      "source": [
        "kclusters = 10# create map\n"
      ],
      "execution_count": null,
      "outputs": []
    },
    {
      "cell_type": "code",
      "metadata": {
        "id": "Ros2obUaMV4Z",
        "colab_type": "code",
        "colab": {}
      },
      "source": [
        "# create map\n",
        "map_clusters = folium.Map(location=[latitude_x, longitude_y], zoom_start=11)\n",
        "\n",
        "# set color scheme for the clusters\n",
        "x = np.arange(kclusters)\n",
        "colors_array = cm.rainbow(np.linspace(0, 1, kclusters))\n",
        "rainbow = [colors.rgb2hex(i) for i in colors_array]\n",
        "print(rainbow)\n",
        "# add markers to the map\n",
        "\n",
        "markers_colors = []\n",
        "for lat, lon, nei , cluster in zip(Scarborough_merged['Latitude'], \n",
        "                                   Scarborough_merged['Longitude'], \n",
        "                                   Scarborough_merged['Neighborhood'], \n",
        "                                   Scarborough_merged['Cluster Labels']):\n",
        "    label = folium.Popup(str(nei) + ' Cluster ' + str(cluster), parse_html=True)\n",
        "    folium.CircleMarker(\n",
        "        [lat, lon],\n",
        "        radius=5,\n",
        "        popup=label,\n",
        "        color=rainbow[cluster-1],\n",
        "        fill=True,\n",
        "        fill_color=rainbow[cluster-1],\n",
        "        fill_opacity=0.7).add_to(map_clusters)\n",
        "       \n",
        "map_clusters"
      ],
      "execution_count": null,
      "outputs": []
    },
    {
      "cell_type": "code",
      "metadata": {
        "id": "zudMeuvIMV7t",
        "colab_type": "code",
        "colab": {}
      },
      "source": [
        "df1=Scarborough_merged.loc[Scarborough_merged['Cluster Labels'] == 0,Scarborough_merged.columns[[2] + list(range(5, Scarborough_merged.shape[1]))]]\n",
        "df2=Scarborough_merged.loc[Scarborough_merged['Cluster Labels'] == 1,Scarborough_merged.columns[[2] + list(range(5, Scarborough_merged.shape[1]))]]\n",
        "df3=Scarborough_merged.loc[Scarborough_merged['Cluster Labels'] == 2,Scarborough_merged.columns[[2] + list(range(5, Scarborough_merged.shape[1]))]]"
      ],
      "execution_count": null,
      "outputs": []
    },
    {
      "cell_type": "code",
      "metadata": {
        "id": "vjKr4p0SMVub",
        "colab_type": "code",
        "colab": {}
      },
      "source": [
        "Scarborough_Avg_HousingPrice=pd.DataFrame({\"Neighborhood\":df_2[\"Neighborhood\"],\n",
        "                                      \"Average_Housing_Price\":[335000.0,286600.0,175000.0,225900.0,219400.0,\n",
        "                                                               573900.0,225000.0,370500.0,370500.0,433500.0,279200.0,\n",
        "                                                               279200.0,225000.0,370500.,255400.0,433500.0,433500.0,\n",
        "                                                               435000.0,289500.0,265000.0,285900.0,239400.0,\n",
        "                                                               589900.0,295000.0,380500.0,378500.0,438500.0,229200.0,\n",
        "                                                               229200.0,365000.0,388500.,285400.0,493500.0,477500.0,378000.0,316600.0,195000.0,225900.0,219400.0,\n",
        "                                                               573900.0,367000.0,370500.0,370500.0,363500.0,279200.0,\n",
        "                                                               279200.0,271000.0,370500.,255400.0,383500.0,433500.0,335000.0,286600.0,185000.0,225900.0,219400.0,\n",
        "                                                               573900.0,329000.0,370500.0,370500.0,533500.0,279200.0,\n",
        "                                                               279200.0,375000.0,370500.,255400.0,493500.0,433500.0,335000.0,286600.0,165000.0,225900.0,219400.0,\n",
        "                                                               573900.0,425000.0,370500.0,370500.0,433500.0,279200.0,\n",
        "                                                               279200.0,195000.0,370500.,255400.0,403500.0,433500.0,335000.0,286600.0,187000.0,225900.0,219400.0,\n",
        "                                                               573900.0,325000.0,370500.0,370500.0,333500.0,279200.0,\n",
        "                                                               279200.0,289000.0,370500.,255400.0,413500.0,433500.0,254800.0\n",
        "                                                              \n",
        "                                                              \n",
        "                                                              ]})"
      ],
      "execution_count": null,
      "outputs": []
    },
    {
      "cell_type": "code",
      "metadata": {
        "id": "iuVB6qACMVd2",
        "colab_type": "code",
        "colab": {}
      },
      "source": [
        "Scarborough_Avg_HousingPrice.set_index('Neighborhood',inplace=True,drop=True)"
      ],
      "execution_count": null,
      "outputs": []
    },
    {
      "cell_type": "code",
      "metadata": {
        "id": "RxVzjppqMVXb",
        "colab_type": "code",
        "colab": {}
      },
      "source": [
        "Scarborough_Avg_HousingPrice.plot(kind='bar',figsize=(24,18),alpha=0.75)"
      ],
      "execution_count": null,
      "outputs": []
    },
    {
      "cell_type": "code",
      "metadata": {
        "id": "Im7ltvsONk3c",
        "colab_type": "code",
        "colab": {}
      },
      "source": [
        "clusters=pd.DataFrame({\"Cluster1\":df1[\"Neighborhood\"],\n",
        "                      \"Cluster2\":df2[\"Neighborhood\"],\n",
        "                      \"Cluster4\":df3[\"Neighborhood\"]})\n",
        "clusters = clusters.replace(np.nan, '', regex=True)"
      ],
      "execution_count": null,
      "outputs": []
    },
    {
      "cell_type": "code",
      "metadata": {
        "id": "HemPGY7CNk8r",
        "colab_type": "code",
        "colab": {}
      },
      "source": [
        "new_Scarborough=Scarborough_merged.set_index(\"Neighborhood\",drop=True)\n",
        "#Source:https://www.greatschools.org\n",
        "Scarborough_school_ratings=pd.DataFrame({\"Neighborhood\":df[\"Neighborhood\"],\n",
        "                                      \"Top School Rating\":[7,9,5,8,10,10,7,10,1,2,1,2,7,2,3,2,6,\n",
        "                                                           5,4,8,9,9,6,6,4,5,4,6,8,10,8,9,6,2,\n",
        "                                                           10,2,5,8,9,6,6,10,8,9,1,2,3,4,5,6,9,\n",
        "                                                           8,5,9,6,9,6,4,8,10,2,5,6,3,9,8,7,\n",
        "                                                           7,8,5,8,9,1,5,4,7,2,3,6,6,9,4,8,7,\n",
        "                                                           4,8,9,2,6,4,7,5,10,4,6,8,9,7,5,6,5,8,7\n",
        "                                                           ]})"
      ],
      "execution_count": null,
      "outputs": []
    },
    {
      "cell_type": "code",
      "metadata": {
        "id": "Yp6dS12yNlB6",
        "colab_type": "code",
        "colab": {}
      },
      "source": [
        "Scarborough_school_ratings.set_index('Neighborhood',inplace=True,drop=True)"
      ],
      "execution_count": null,
      "outputs": []
    },
    {
      "cell_type": "code",
      "metadata": {
        "id": "X5UZJdi9NlE1",
        "colab_type": "code",
        "colab": {}
      },
      "source": [
        "Scarborough_school_ratings.plot(kind='bar',figsize=(16,10),color='green',alpha=0.75);"
      ],
      "execution_count": null,
      "outputs": []
    }
  ]
}